{
 "cells": [
  {
   "cell_type": "markdown",
   "metadata": {},
   "source": [
    "### Collatz Conjecture investigation\n",
    "\n",
    "#### The Collatz Conjecture is one in which you can start from any positive integer X. If X is even, you divide X by 2, if X is odd, you multiply by 3 and add 1. With every number that has been tested with the world’s current computer power, every number will end up at 1, and there on get stuck in the loop: 4, 2, 1, 4, 2, 1... etc. It is still yet to prove whether every number will end up at 1.\n",
    "\n",
    "\n"
   ]
  },
  {
   "cell_type": "markdown",
   "metadata": {},
   "source": [
    "***"
   ]
  },
  {
   "cell_type": "code",
   "execution_count": 51,
   "metadata": {
    "code_folding": []
   },
   "outputs": [],
   "source": [
    "def collatz(x):\n",
    "    collatz_list=[x]\n",
    "    while x!=1:\n",
    "        if x%2==0:\n",
    "            x/=2\n",
    "        else:\n",
    "            x=3*x+1\n",
    "        collatz_list.append(int(x))\n",
    "    return (collatz_list)\n"
   ]
  },
  {
   "cell_type": "code",
   "execution_count": 52,
   "metadata": {},
   "outputs": [
    {
     "data": {
      "text/plain": [
       "[28, 14, 7, 22, 11, 34, 17, 52, 26, 13, 40, 20, 10, 5, 16, 8, 4, 2, 1]"
      ]
     },
     "execution_count": 52,
     "metadata": {},
     "output_type": "execute_result"
    }
   ],
   "source": [
    "(collatz(28))"
   ]
  },
  {
   "cell_type": "markdown",
   "metadata": {},
   "source": [
    "To start, I created a program in Python where you could input a number; X, and the program would apply the 2 functions to X, depending on whether it was odd or even. The program would output every number after every iteration and the amount of iterations it took to get to 1.\n",
    "***"
   ]
  },
  {
   "cell_type": "code",
   "execution_count": 53,
   "metadata": {},
   "outputs": [],
   "source": [
    "import matplotlib.pyplot as plt\n",
    "import numpy as np\n",
    "\n",
    "x=[]\n",
    "y=[]\n",
    "for i in range(1,100,1):\n",
    "    x.append(i)\n",
    "    y.append(len(collatz(i)))\n",
    "    \n"
   ]
  },
  {
   "cell_type": "code",
   "execution_count": 54,
   "metadata": {},
   "outputs": [],
   "source": [
    "import statistics\n",
    "sd = statistics.stdev(y)\n",
    "mean = statistics.mean(y)"
   ]
  },
  {
   "cell_type": "code",
   "execution_count": 68,
   "metadata": {
    "scrolled": true
   },
   "outputs": [
    {
     "name": "stdout",
     "output_type": "stream",
     "text": [
      "1 1\n",
      "2 2\n",
      "3 8\n",
      "4 3\n",
      "5 6\n",
      "6 9\n",
      "7 17\n",
      "8 4\n",
      "9 20\n",
      "10 7\n",
      "11 15\n",
      "12 10\n",
      "13 10\n",
      "14 18\n",
      "15 18\n",
      "16 5\n",
      "17 13\n",
      "18 21\n",
      "19 21\n",
      "20 8\n",
      "21 8\n",
      "22 16\n",
      "23 16\n",
      "24 11\n",
      "25 24\n",
      "26 11\n",
      "27 112\n",
      "28 19\n",
      "29 19\n",
      "30 19\n",
      "31 107\n",
      "32 6\n",
      "33 27\n",
      "34 14\n",
      "35 14\n",
      "36 22\n",
      "37 22\n",
      "38 22\n",
      "39 35\n",
      "40 9\n",
      "41 110\n",
      "42 9\n",
      "43 30\n",
      "44 17\n",
      "45 17\n",
      "46 17\n",
      "47 105\n",
      "48 12\n",
      "49 25\n",
      "50 25\n",
      "51 25\n",
      "52 12\n",
      "53 12\n",
      "54 113\n",
      "55 113\n",
      "56 20\n",
      "57 33\n",
      "58 20\n",
      "59 33\n",
      "60 20\n",
      "61 20\n",
      "62 108\n",
      "63 108\n",
      "64 7\n",
      "65 28\n",
      "66 28\n",
      "67 28\n",
      "68 15\n",
      "69 15\n",
      "70 15\n",
      "71 103\n",
      "72 23\n",
      "73 116\n",
      "74 23\n",
      "75 15\n",
      "76 23\n",
      "77 23\n",
      "78 36\n",
      "79 36\n",
      "80 10\n",
      "81 23\n",
      "82 111\n",
      "83 111\n",
      "84 10\n",
      "85 10\n",
      "86 31\n",
      "87 31\n",
      "88 18\n",
      "89 31\n",
      "90 18\n",
      "91 93\n",
      "92 18\n",
      "93 18\n",
      "94 106\n",
      "95 106\n",
      "96 13\n",
      "97 119\n",
      "98 26\n",
      "99 26\n",
      "{27: 112, 31: 107, 41: 110, 47: 105, 54: 113, 55: 113, 62: 108, 63: 108, 71: 103, 73: 116, 82: 111, 83: 111, 91: 93, 94: 106, 95: 106, 97: 119}\n"
     ]
    }
   ],
   "source": [
    "dictionary = dict(zip(x, y))\n",
    "anomalyDict = {}\n",
    "for i in dictionary:\n",
    "    print(i, dictionary[i])\n",
    "\n",
    "    if dictionary[i] > statistics.mean(y) + 1*(statistics.stdev(y)):\n",
    "        anomalyDict[i] = dictionary[i]\n",
    "\n",
    "    if dictionary[i] < statistics.mean(y) - 1*(statistics.stdev(y)):\n",
    "        anomalyDict[i] = dictionary[i]\n",
    "\n",
    "        \n",
    "print(anomalyDict)\n"
   ]
  },
  {
   "cell_type": "markdown",
   "metadata": {},
   "source": [
    "Shows the set of all cordinates. \n",
    "X being the number that's being inputted into the function\n",
    "Y being the amount of iterations it takes to get to 1\n",
    "\n",
    "***"
   ]
  },
  {
   "cell_type": "code",
   "execution_count": 56,
   "metadata": {
    "scrolled": true
   },
   "outputs": [
    {
     "data": {
      "text/plain": [
       "Text(0,0.5,'Amount of iterations to get to one')"
      ]
     },
     "execution_count": 56,
     "metadata": {},
     "output_type": "execute_result"
    },
    {
     "data": {
      "image/png": "[encoded data removed]",
      "text/plain": [
       "<Figure size 432x288 with 1 Axes>"
      ]
     },
     "metadata": {},
     "output_type": "display_data"
    }
   ],
   "source": [
    "plt.scatter(x,y)\n",
    "plt.xlabel(\"The number being inputted into the function\")\n",
    "plt.ylabel(\"Amount of iterations to get to one\")"
   ]
  },
  {
   "cell_type": "code",
   "execution_count": 44,
   "metadata": {},
   "outputs": [
    {
     "data": {
      "text/plain": [
       "0.3462716310339947"
      ]
     },
     "execution_count": 44,
     "metadata": {},
     "output_type": "execute_result"
    }
   ],
   "source": [
    "np.corrcoef(x, y)[0, 1]"
   ]
  },
  {
   "cell_type": "markdown",
   "metadata": {},
   "source": []
  }
 ],
 "metadata": {
  "kernelspec": {
   "display_name": "Python 3",
   "language": "python",
   "name": "python3"
  },
  "language_info": {
   "codemirror_mode": {
    "name": "ipython",
    "version": 3
   },
   "file_extension": ".py",
   "mimetype": "text/x-python",
   "name": "python",
   "nbconvert_exporter": "python",
   "pygments_lexer": "ipython3",
   "version": "3.6.5"
  }
 },
 "nbformat": 4,
 "nbformat_minor": 2
}
