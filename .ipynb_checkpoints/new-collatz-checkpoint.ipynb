{
 "cells": [
  {
   "cell_type": "markdown",
   "metadata": {},
   "source": [
    "### `Collatz Conjecture investigation`\n",
    "\n",
    " `The Collatz Conjecture is one in which you can start from any positive integer X. If X is even, you divide X by 2, if X is odd, you multiply by 3 and add 1. With every number that has been tested with the world’s current computer power, every number will end up at 1, and there on get stuck in the loop: 4, 2, 1, 4, 2, 1... etc. It is still yet to prove whether every number will end up at 1.`\n",
    "\n"
   ]
  },
  {
   "cell_type": "markdown",
   "metadata": {},
   "source": [
    "$$\n",
    "\\begin{equation}\n",
    "  C(x)=\\begin{cases}\n",
    "    1, & \\text{if x =1}\\\\\n",
    "    C(\\frac{x}{2}), & \\text{if x is even}\\\\\n",
    "    C(3x+1), & \\text{if x is odd}\n",
    "  \\end{cases}\n",
    "\\end{equation}\n",
    "$$\n"
   ]
  },
  {
   "cell_type": "code",
   "execution_count": 1,
   "metadata": {
    "scrolled": false
   },
   "outputs": [],
   "source": [
    "# Importing libraries\n",
    "\n",
    "import matplotlib.pyplot as plt\n",
    "import numpy as np\n",
    "import statistics as st\n",
    "import math"
   ]
  },
  {
   "cell_type": "code",
   "execution_count": 2,
   "metadata": {
    "scrolled": false
   },
   "outputs": [],
   "source": [
    "# Function which shows the list of all iterations \n",
    "# that the starting number goes through to get to 1\n",
    "\n",
    "def collatz(x):\n",
    "    collatz_list=[x]\n",
    "    while x!=1:\n",
    "        if x%2==0:\n",
    "            x/=2\n",
    "        else:\n",
    "            x=3*x+1\n",
    "        collatz_list.append(int(x))\n",
    "    return collatz_list"
   ]
  },
  {
   "cell_type": "markdown",
   "metadata": {},
   "source": [
    "`Lets try putting 26 into the collatz function:`"
   ]
  },
  {
   "cell_type": "code",
   "execution_count": 3,
   "metadata": {
    "scrolled": false
   },
   "outputs": [
    {
     "name": "stdout",
     "output_type": "stream",
     "text": [
      "[26, 13, 40, 20, 10, 5, 16, 8, 4, 2, 1]\n",
      "Number of iterations to get to 1:  11\n"
     ]
    }
   ],
   "source": [
    "print (collatz(26))\n",
    "print (\"Number of iterations to get to 1: \", len(collatz(26)))"
   ]
  },
  {
   "cell_type": "markdown",
   "metadata": {},
   "source": [
    "`The function takes the starting number, in this case 26, and applies one of the 2 functions to it depending on whether it is odd or even`"
   ]
  },
  {
   "cell_type": "code",
   "execution_count": 4,
   "metadata": {
    "scrolled": false
   },
   "outputs": [
    {
     "name": "stdout",
     "output_type": "stream",
     "text": [
      "[27, 82, 41, 124, 62, 31, 94, 47, 142, 71, 214, 107, 322, 161, 484, 242, 121, 364, 182, 91, 274, 137, 412, 206, 103, 310, 155, 466, 233, 700, 350, 175, 526, 263, 790, 395, 1186, 593, 1780, 890, 445, 1336, 668, 334, 167, 502, 251, 754, 377, 1132, 566, 283, 850, 425, 1276, 638, 319, 958, 479, 1438, 719, 2158, 1079, 3238, 1619, 4858, 2429, 7288, 3644, 1822, 911, 2734, 1367, 4102, 2051, 6154, 3077, 9232, 4616, 2308, 1154, 577, 1732, 866, 433, 1300, 650, 325, 976, 488, 244, 122, 61, 184, 92, 46, 23, 70, 35, 106, 53, 160, 80, 40, 20, 10, 5, 16, 8, 4, 2, 1]\n",
      "Number of iterations to get to 1:  112\n"
     ]
    }
   ],
   "source": [
    "print (collatz(27))\n",
    "print (\"Number of iterations to get to 1: \", len(collatz(27)))"
   ]
  },
  {
   "cell_type": "markdown",
   "metadata": {},
   "source": [
    "`A massive difference between putting 26 and 27 into the collatz function...`"
   ]
  },
  {
   "cell_type": "markdown",
   "metadata": {},
   "source": [
    "-----"
   ]
  },
  {
   "cell_type": "markdown",
   "metadata": {},
   "source": [
    "`Let's see what this actually looks like...`"
   ]
  },
  {
   "cell_type": "code",
   "execution_count": 13,
   "metadata": {
    "scrolled": false
   },
   "outputs": [],
   "source": [
    "x = []\n",
    "y= []"
   ]
  },
  {
   "cell_type": "code",
   "execution_count": 14,
   "metadata": {
    "scrolled": false
   },
   "outputs": [],
   "source": [
    "# Appends the number being inputted into the collatz function on the x-axis\n",
    "# Appends the number of iterations for that number to get to 1 on the y-axis\n",
    "for i in range(1,5000,1):\n",
    "    x.append(i)\n",
    "    y.append(len(collatz(i)))\n"
   ]
  },
  {
   "cell_type": "code",
   "execution_count": 15,
   "metadata": {
    "scrolled": true
   },
   "outputs": [
    {
     "data": {
      "text/plain": [
       "Text(0,0.5,'Amount of iterations to get to one')"
      ]
     },
     "execution_count": 15,
     "metadata": {},
     "output_type": "execute_result"
    },
    {
     "data": {
      "image/png": "[encoded data removed]",
      "text/plain": [
       "<Figure size 432x288 with 1 Axes>"
      ]
     },
     "metadata": {},
     "output_type": "display_data"
    }
   ],
   "source": [
    "plt.scatter(x,y)\n",
    "plt.xlabel(\"The number being inputted into the function\")\n",
    "plt.ylabel(\"Amount of iterations to get to one\")"
   ]
  },
  {
   "cell_type": "markdown",
   "metadata": {},
   "source": [
    "`Not the kind of graph you were expecting..\n",
    "Let's scale it down a bit`"
   ]
  },
  {
   "cell_type": "code",
   "execution_count": 20,
   "metadata": {},
   "outputs": [],
   "source": [
    "x2 = []\n",
    "y2 = []"
   ]
  },
  {
   "cell_type": "code",
   "execution_count": 31,
   "metadata": {
    "scrolled": false
   },
   "outputs": [],
   "source": [
    "# Appends the number being inputted into the collatz function on the x-axis\n",
    "# Appends the number of iterations for that number to get to 1 on the y-axis\n",
    "\n",
    "for i in range(1,51,1):\n",
    "    x2.append(i)\n",
    "    y2.append(len(collatz(i)))"
   ]
  },
  {
   "cell_type": "code",
   "execution_count": 32,
   "metadata": {
    "scrolled": false
   },
   "outputs": [
    {
     "data": {
      "text/plain": [
       "Text(0,0.5,'Amount of iterations to get to one')"
      ]
     },
     "execution_count": 32,
     "metadata": {},
     "output_type": "execute_result"
    },
    {
     "data": {
      "image/png": "[encoded data removed]",
      "text/plain": [
       "<Figure size 432x288 with 1 Axes>"
      ]
     },
     "metadata": {},
     "output_type": "display_data"
    }
   ],
   "source": [
    "plt.scatter(x2,y2)\n",
    "plt.xlabel(\"The number being inputted into the function\")\n",
    "plt.ylabel(\"Amount of iterations to get to one\")"
   ]
  },
  {
   "cell_type": "code",
   "execution_count": 33,
   "metadata": {
    "scrolled": false
   },
   "outputs": [
    {
     "name": "stdout",
     "output_type": "stream",
     "text": [
      "[[1, 1], [2, 2], [3, 8], [4, 3], [5, 6], [6, 9], [7, 17], [8, 4], [9, 20], [10, 7], [11, 15], [12, 10], [13, 10], [14, 18], [15, 18], [16, 5], [17, 13], [18, 21], [19, 21], [20, 8], [21, 8], [22, 16], [23, 16], [24, 11], [25, 24], [26, 11], [27, 112], [28, 19], [29, 19], [30, 19], [31, 107], [32, 6], [33, 27], [34, 14], [35, 14], [36, 22], [37, 22], [38, 22], [39, 35], [40, 9], [41, 110], [42, 9], [43, 30], [44, 17], [45, 17], [46, 17], [47, 105], [48, 12], [1, 1]]\n"
     ]
    }
   ],
   "source": [
    "listname2=[]\n",
    "for i in range(0,49):\n",
    "    temp=[]\n",
    "    temp.append(x2[i])\n",
    "    temp.append(y2[i])\n",
    "    listname2.append(temp)\n",
    "print(listname2)"
   ]
  },
  {
   "cell_type": "markdown",
   "metadata": {},
   "source": [
    "`The anomolies here are: 27, 31, 41, 47`"
   ]
  },
  {
   "cell_type": "markdown",
   "metadata": {},
   "source": [
    "`What actually makes the numbers go to 1?`"
   ]
  },
  {
   "cell_type": "code",
   "execution_count": 38,
   "metadata": {
    "scrolled": false
   },
   "outputs": [
    {
     "name": "stdout",
     "output_type": "stream",
     "text": [
      "[27, 82, 41, 124, 62, 31, 94, 47, 142, 71, 214, 107, 322, 161, 484, 242, 121, 364, 182, 91, 274, 137, 412, 206, 103, 310, 155, 466, 233, 700, 350, 175, 526, 263, 790, 395, 1186, 593, 1780, 890, 445, 1336, 668, 334, 167, 502, 251, 754, 377, 1132, 566, 283, 850, 425, 1276, 638, 319, 958, 479, 1438, 719, 2158, 1079, 3238, 1619, 4858, 2429, 7288, 3644, 1822, 911, 2734, 1367, 4102, 2051, 6154, 3077, 9232, 4616, 2308, 1154, 577, 1732, 866, 433, 1300, 650, 325, 976, 488, 244, 122, 61, 184, 92, 46, 23, 70, 35, 106, 53, 160, 80, 40, 20, 10, 5, 16, 8, 4, 2, 1]\n",
      "[31, 94, 47, 142, 71, 214, 107, 322, 161, 484, 242, 121, 364, 182, 91, 274, 137, 412, 206, 103, 310, 155, 466, 233, 700, 350, 175, 526, 263, 790, 395, 1186, 593, 1780, 890, 445, 1336, 668, 334, 167, 502, 251, 754, 377, 1132, 566, 283, 850, 425, 1276, 638, 319, 958, 479, 1438, 719, 2158, 1079, 3238, 1619, 4858, 2429, 7288, 3644, 1822, 911, 2734, 1367, 4102, 2051, 6154, 3077, 9232, 4616, 2308, 1154, 577, 1732, 866, 433, 1300, 650, 325, 976, 488, 244, 122, 61, 184, 92, 46, 23, 70, 35, 106, 53, 160, 80, 40, 20, 10, 5, 16, 8, 4, 2, 1]\n",
      "[41, 124, 62, 31, 94, 47, 142, 71, 214, 107, 322, 161, 484, 242, 121, 364, 182, 91, 274, 137, 412, 206, 103, 310, 155, 466, 233, 700, 350, 175, 526, 263, 790, 395, 1186, 593, 1780, 890, 445, 1336, 668, 334, 167, 502, 251, 754, 377, 1132, 566, 283, 850, 425, 1276, 638, 319, 958, 479, 1438, 719, 2158, 1079, 3238, 1619, 4858, 2429, 7288, 3644, 1822, 911, 2734, 1367, 4102, 2051, 6154, 3077, 9232, 4616, 2308, 1154, 577, 1732, 866, 433, 1300, 650, 325, 976, 488, 244, 122, 61, 184, 92, 46, 23, 70, 35, 106, 53, 160, 80, 40, 20, 10, 5, 16, 8, 4, 2, 1]\n",
      "[47, 142, 71, 214, 107, 322, 161, 484, 242, 121, 364, 182, 91, 274, 137, 412, 206, 103, 310, 155, 466, 233, 700, 350, 175, 526, 263, 790, 395, 1186, 593, 1780, 890, 445, 1336, 668, 334, 167, 502, 251, 754, 377, 1132, 566, 283, 850, 425, 1276, 638, 319, 958, 479, 1438, 719, 2158, 1079, 3238, 1619, 4858, 2429, 7288, 3644, 1822, 911, 2734, 1367, 4102, 2051, 6154, 3077, 9232, 4616, 2308, 1154, 577, 1732, 866, 433, 1300, 650, 325, 976, 488, 244, 122, 61, 184, 92, 46, 23, 70, 35, 106, 53, 160, 80, 40, 20, 10, 5, 16, 8, 4, 2, 1]\n"
     ]
    }
   ],
   "source": [
    "print(collatz(27))\n",
    "print(collatz(31))\n",
    "print(collatz(41))\n",
    "print(collatz(47))"
   ]
  },
  {
   "cell_type": "markdown",
   "metadata": {},
   "source": [
    "`It seems the anomolies have the same journey, as soon as they hit a certain number, they follow the same path until they reach 1`"
   ]
  },
  {
   "cell_type": "code",
   "execution_count": 52,
   "metadata": {
    "scrolled": false
   },
   "outputs": [],
   "source": [
    "# List used ot plot a bar chart\n",
    "usefulListOfNumbers=[0,1,2,3,4,5,6,7,8,9,10,11,12,13,14,15,16,17,18]\n",
    "\n",
    "#Empty list will keep tally of how many times each power of 2 appears first in a Collatz Series\n",
    "tallyList=[]\n",
    "\n",
    "# Working with powers of 2 up to 15 including 0 so we need 16 0s in a list to increment each time \n",
    "# it appears first in a Collatz Series\n",
    "for i in range(0,19):\n",
    "    tallyList.append(0)"
   ]
  },
  {
   "cell_type": "code",
   "execution_count": 53,
   "metadata": {
    "scrolled": false
   },
   "outputs": [],
   "source": [
    "def createPowersOfTwoList(): # Function will create a list containing all the powers of 2 up to 2^15\n",
    "    powersOfTwo=[] # Initialising list\n",
    "    for i in range(0,19): # For loop will repeat 16 times adding each power of 2 to a list\n",
    "        powersOfTwo.append(2**i)\n",
    "    return powersOfTwo # Returns the list\n",
    "powersOfTwo=createPowersOfTwoList() # Calling the function to store the powers of 2 as a list"
   ]
  },
  {
   "cell_type": "code",
   "execution_count": null,
   "metadata": {
    "scrolled": false
   },
   "outputs": [],
   "source": [
    "for i in range(1,1000000000): \n",
    "    # The ranges can be tweaked to run a Collatz sequence for each number between 2 values,\n",
    "    # or even add in a step value to test different multiples?\n",
    "    \n",
    "    collatzIterations=collatz(i) # Calling the Collatz function to store the series as a list\n",
    "    for x in range(0,len(collatzIterations)): # Starting at index 0, we loop through the list up to the length of the list\n",
    "        if collatzIterations[x] in powersOfTwo: # Checks if the Collatz iteration is a power of 2\n",
    "            powerOfTwoIndex=int(math.log2(collatzIterations[x])) #Using logarith to determine what power of 2 it is\n",
    "            tallyList[powerOfTwoIndex]+=1 # Increments the tally for that power of 2\n",
    "            break # Ends the for loop so that we only increment the first appearance of a power of 2, not all of them"
   ]
  },
  {
   "cell_type": "code",
   "execution_count": 55,
   "metadata": {
    "scrolled": false
   },
   "outputs": [
    {
     "name": "stdout",
     "output_type": "stream",
     "text": [
      "Power of 2: 1, Occurances: 1\n",
      "Power of 2: 2, Occurances: 1\n",
      "Power of 2: 4, Occurances: 1\n",
      "Power of 2: 8, Occurances: 1\n",
      "Power of 2: 16, Occurances: 932\n",
      "Power of 2: 32, Occurances: 1\n",
      "Power of 2: 64, Occurances: 7\n",
      "Power of 2: 128, Occurances: 1\n",
      "Power of 2: 256, Occurances: 28\n",
      "Power of 2: 512, Occurances: 1\n",
      "Power of 2: 1024, Occurances: 25\n",
      "Power of 2: 2048, Occurances: 0\n",
      "Power of 2: 4096, Occurances: 0\n",
      "Power of 2: 8192, Occurances: 0\n",
      "Power of 2: 16384, Occurances: 0\n",
      "Power of 2: 32768, Occurances: 0\n",
      "Power of 2: 65536, Occurances: 0\n",
      "Power of 2: 131072, Occurances: 0\n",
      "Power of 2: 262144, Occurances: 0\n"
     ]
    }
   ],
   "source": [
    "for i in range(0,len(tallyList)):\n",
    "    print(\"Power of 2: {}, Occurances: {}\".format(powersOfTwo[i],tallyList[i])) \n",
    "    # Outputs all the powers of 2 and how many times they occur first in a Collatz sequence"
   ]
  },
  {
   "cell_type": "code",
   "execution_count": 56,
   "metadata": {
    "scrolled": false
   },
   "outputs": [
    {
     "data": {
      "text/plain": [
       "<BarContainer object of 19 artists>"
      ]
     },
     "execution_count": 56,
     "metadata": {},
     "output_type": "execute_result"
    },
    {
     "data": {
      "image/png": "[encoded data removed]",
      "text/plain": [
       "<Figure size 432x288 with 1 Axes>"
      ]
     },
     "metadata": {},
     "output_type": "display_data"
    }
   ],
   "source": [
    "plt.xlabel(\"Power of 2\") # Labelling the x axis of the bar chart\n",
    "plt.ylabel(\"Total occurance\") # Labelling the y axis of the bar chart\n",
    "plt.bar(usefulListOfNumbers,tallyList) # Outputting the bar chart"
   ]
  },
  {
   "cell_type": "code",
   "execution_count": null,
   "metadata": {
    "scrolled": false
   },
   "outputs": [],
   "source": []
  }
 ],
 "metadata": {
  "kernelspec": {
   "display_name": "Python 3",
   "language": "python",
   "name": "python3"
  },
  "language_info": {
   "codemirror_mode": {
    "name": "ipython",
    "version": 3
   },
   "file_extension": ".py",
   "mimetype": "text/x-python",
   "name": "python",
   "nbconvert_exporter": "python",
   "pygments_lexer": "ipython3",
   "version": "3.6.5"
  }
 },
 "nbformat": 4,
 "nbformat_minor": 2
}
