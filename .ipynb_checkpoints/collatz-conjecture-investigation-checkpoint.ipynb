{
 "cells": [
  {
   "cell_type": "markdown",
   "metadata": {},
   "source": [
    "### `Collatz Conjecture investigation`\n",
    "\n",
    "`The Collatz Conjecture is one in which you can start from any positive integer X. If X is even, you divide X by 2, if X is odd, you multiply by 3 and add 1. With every number that has been tested with the world’s current computer power, every number will end up at 1, and there on get stuck in the loop: 4, 2, 1, 4, 2, 1... etc. It is still yet to prove whether every number will end up at 1.`\n",
    "\n"
   ]
  },
  {
   "cell_type": "markdown",
   "metadata": {},
   "source": [
    "$$\n",
    "\\begin{equation}\n",
    "  C(x)=\\begin{cases}\n",
    "    1, & \\text{if x =1}\\\\\n",
    "    C(\\frac{x}{2}), & \\text{if x is even}\\\\\n",
    "    C(3x+1), & \\text{if x is odd}\n",
    "  \\end{cases}\n",
    "\\end{equation}\n",
    "$$\n"
   ]
  },
  {
   "cell_type": "code",
   "execution_count": 3,
   "metadata": {},
   "outputs": [],
   "source": [
    "# Importing libraries\n",
    "\n",
    "import matplotlib.pyplot as plt\n",
    "import numpy as np\n",
    "import statistics as st\n",
    "import math\n",
    "import matplotlib.cm as cm"
   ]
  },
  {
   "cell_type": "code",
   "execution_count": 12,
   "metadata": {},
   "outputs": [],
   "source": [
    "# Function which shows the list of all iterations \n",
    "# that the starting number goes through to get to 1\n",
    "\n",
    "def collatz(x):\n",
    "    collatz_list=[x]\n",
    "    while x!=1:\n",
    "        if x%2==0:\n",
    "            x/=2\n",
    "        else:\n",
    "            x=3*x+1\n",
    "        collatz_list.append(int(x))\n",
    "    return collatz_list"
   ]
  },
  {
   "cell_type": "markdown",
   "metadata": {},
   "source": [
    "### `What happens when I put 26 into the collatz function?`"
   ]
  },
  {
   "cell_type": "code",
   "execution_count": 13,
   "metadata": {},
   "outputs": [
    {
     "name": "stdout",
     "output_type": "stream",
     "text": [
      "[26, 13, 40, 20, 10, 5, 16, 8, 4, 2, 1]\n",
      "Number of iterations to get to 1:  11\n"
     ]
    }
   ],
   "source": [
    "print (collatz(26))\n",
    "print (\"Number of iterations to get to 1: \", len(collatz(26)))"
   ]
  },
  {
   "cell_type": "markdown",
   "metadata": {},
   "source": [
    "### `The function takes the starting number, in this case 26, and applies one of the 2 functions to it depending on whether it is odd or even`"
   ]
  },
  {
   "cell_type": "code",
   "execution_count": 6,
   "metadata": {},
   "outputs": [],
   "source": [
    "x = []\n",
    "y= []"
   ]
  },
  {
   "cell_type": "code",
   "execution_count": 7,
   "metadata": {},
   "outputs": [],
   "source": [
    "# Appends the number being inputted into the collatz function on the x-axis\n",
    "# Appends the number of iterations for that number to get to 1 on the y-axis\n",
    "for i in range(1,5000,1):\n",
    "    x.append(i)\n",
    "    y.append(len(collatz(i)))\n"
   ]
  },
  {
   "cell_type": "code",
   "execution_count": 8,
   "metadata": {},
   "outputs": [],
   "source": [
    "x2 = []\n",
    "y2 = []"
   ]
  },
  {
   "cell_type": "code",
   "execution_count": 9,
   "metadata": {},
   "outputs": [],
   "source": [
    "# Appends the number being inputted into the collatz function on the x-axis\n",
    "# Appends the number of iterations for that number to get to 1 on the y-axis\n",
    "\n",
    "for i in range(1,51,1):\n",
    "    x2.append(i)\n",
    "    y2.append(len(collatz(i)))"
   ]
  },
  {
   "cell_type": "code",
   "execution_count": 10,
   "metadata": {},
   "outputs": [
    {
     "name": "stdout",
     "output_type": "stream",
     "text": [
      "[[1, 1], [2, 2], [3, 8], [4, 3], [5, 6], [6, 9], [7, 17], [8, 4], [9, 20], [10, 7], [11, 15], [12, 10], [13, 10], [14, 18], [15, 18], [16, 5], [17, 13], [18, 21], [19, 21], [20, 8], [21, 8], [22, 16], [23, 16], [24, 11], [25, 24], [26, 11], [27, 112], [28, 19], [29, 19], [30, 19], [31, 107], [32, 6], [33, 27], [34, 14], [35, 14], [36, 22], [37, 22], [38, 22], [39, 35], [40, 9], [41, 110], [42, 9], [43, 30], [44, 17], [45, 17], [46, 17], [47, 105], [48, 12], [49, 25], [50, 25]]\n"
     ]
    }
   ],
   "source": [
    "listname2=[]\n",
    "for i in range(0,50):\n",
    "    temp=[]\n",
    "    temp.append(x2[i])\n",
    "    temp.append(y2[i])\n",
    "    listname2.append(temp)\n",
    "print(listname2)"
   ]
  },
  {
   "cell_type": "code",
   "execution_count": 11,
   "metadata": {},
   "outputs": [],
   "source": [
    "def powerFunction(base, powersUpTo, collatzUpTo):\n",
    "    tallyList=[]\n",
    "    for i in range(0,powersUpTo+1):\n",
    "        tallyList.append(0)\n",
    "    powersList=createPowersList(base, powersUpTo)\n",
    "    for i in range(1,collatzUpTo): \n",
    "    # The ranges can be tweaked to run a Collatz sequence for each number between 2 values,\n",
    "    # or even add in a step value to test different multiples?\n",
    "    \n",
    "        collatzIterations=collatz(i) # Calling the Collatz function to store the series as a list\n",
    "        for x in range(0,len(collatzIterations)): # Starting at index 0, we loop through the list up to the length of the list\n",
    "            if collatzIterations[x] in powersList: # Checks if the Collatz iteration is a power of 2\n",
    "                powerListIndex=int(math.log(collatzIterations[x],base)) #Using logarith to determine what power of 2 it is\n",
    "                tallyList[powerListIndex]+=1 # Increments the tally for that power of 2\n",
    "                break # Ends the for loop so that we only increment the first appearance of a power of 2, not all of them\n",
    "\n",
    "            \n",
    "    for i in range(0,len(tallyList)):\n",
    "        print(\"{}^{} = {}, Occurances: {}\".format(base,i, powersList[i],tallyList[i])) \n",
    "    # Outputs all the powers of 2 and how many times they occur first in a Collatz sequence"
   ]
  },
  {
   "cell_type": "code",
   "execution_count": null,
   "metadata": {},
   "outputs": [],
   "source": []
  },
  {
   "cell_type": "code",
   "execution_count": null,
   "metadata": {},
   "outputs": [],
   "source": []
  },
  {
   "cell_type": "code",
   "execution_count": null,
   "metadata": {},
   "outputs": [],
   "source": []
  },
  {
   "cell_type": "code",
   "execution_count": null,
   "metadata": {},
   "outputs": [],
   "source": []
  },
  {
   "cell_type": "code",
   "execution_count": null,
   "metadata": {},
   "outputs": [],
   "source": []
  },
  {
   "cell_type": "code",
   "execution_count": null,
   "metadata": {},
   "outputs": [],
   "source": []
  },
  {
   "cell_type": "code",
   "execution_count": null,
   "metadata": {},
   "outputs": [],
   "source": []
  }
 ],
 "metadata": {
  "kernelspec": {
   "display_name": "Python 3",
   "language": "python",
   "name": "python3"
  },
  "language_info": {
   "codemirror_mode": {
    "name": "ipython",
    "version": 3
   },
   "file_extension": ".py",
   "mimetype": "text/x-python",
   "name": "python",
   "nbconvert_exporter": "python",
   "pygments_lexer": "ipython3",
   "version": "3.6.5"
  }
 },
 "nbformat": 4,
 "nbformat_minor": 2
}
