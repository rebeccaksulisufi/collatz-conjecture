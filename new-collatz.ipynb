{
 "cells": [
  {
   "cell_type": "markdown",
   "metadata": {},
   "source": [
    "### `Collatz Conjecture investigation`\n",
    "\n",
    " `The Collatz Conjecture is one in which you can start from any positive integer X. If X is even, you divide X by 2, if X is odd, you multiply by 3 and add 1. With every number that has been tested with the world’s current computer power, every number will end up at 1, and there on get stuck in the loop: 4, 2, 1, 4, 2, 1... etc. It is still yet to prove whether every number will end up at 1.`\n",
    "\n"
   ]
  },
  {
   "cell_type": "markdown",
   "metadata": {},
   "source": [
    "\\begin{equation}\n",
    "  C(x)=\\begin{cases}\n",
    "    1, & \\text{if $x =1$}\\\\\n",
    "    C(\\frac{x}{2}), & \\text{if $x$ is even}\\\\\n",
    "    C(3x+1), & \\text{if $x$ is odd}\n",
    "  \\end{cases}\n",
    "\\end{equation}\n"
   ]
  },
  {
   "cell_type": "code",
   "execution_count": 1,
   "metadata": {},
   "outputs": [],
   "source": [
    "# Importing libraries\n",
    "\n",
    "import matplotlib.pyplot as plt\n",
    "import numpy as np\n",
    "import statistics"
   ]
  },
  {
   "cell_type": "code",
   "execution_count": 2,
   "metadata": {},
   "outputs": [],
   "source": [
    "# Function which shows the list of all iterations \n",
    "# that the starting number goes through to get to 1\n",
    "\n",
    "def collatz(x):\n",
    "    collatz_list=[x]\n",
    "    while x!=1:\n",
    "        if x%2==0:\n",
    "            x/=2\n",
    "        else:\n",
    "            x=3*x+1\n",
    "        collatz_list.append(int(x))\n",
    "    return (collatz_list)"
   ]
  },
  {
   "cell_type": "markdown",
   "metadata": {},
   "source": [
    "<center>`For example starting with the number 12, the sequence given is:`</center>"
   ]
  },
  {
   "cell_type": "code",
   "execution_count": 3,
   "metadata": {},
   "outputs": [
    {
     "data": {
      "text/plain": [
       "[12, 6, 3, 10, 5, 16, 8, 4, 2, 1]"
      ]
     },
     "execution_count": 3,
     "metadata": {},
     "output_type": "execute_result"
    }
   ],
   "source": [
    "collatz(12)\n"
   ]
  },
  {
   "cell_type": "code",
   "execution_count": 4,
   "metadata": {
    "scrolled": false
   },
   "outputs": [
    {
     "data": {
      "text/plain": [
       "[85, 256, 128, 64, 32, 16, 8, 4, 2, 1]"
      ]
     },
     "execution_count": 4,
     "metadata": {},
     "output_type": "execute_result"
    }
   ],
   "source": [
    "# Lets try starting with an even number\n",
    "\n",
    "collatz(85)"
   ]
  },
  {
   "cell_type": "code",
   "execution_count": 5,
   "metadata": {},
   "outputs": [],
   "source": [
    "x = []\n",
    "y= []"
   ]
  },
  {
   "cell_type": "code",
   "execution_count": 6,
   "metadata": {},
   "outputs": [],
   "source": [
    "for i in range(1,100,1):\n",
    "    x.append(i)\n",
    "    y.append(len(collatz(i)))"
   ]
  },
  {
   "cell_type": "code",
   "execution_count": 7,
   "metadata": {},
   "outputs": [
    {
     "name": "stdout",
     "output_type": "stream",
     "text": [
      "[12, 6, 3, 10, 5, 16, 8, 4, 2, 1]\n",
      "[16, 12]\n"
     ]
    }
   ],
   "source": [
    "a = collatz(12)\n",
    "print(a)\n",
    "b = []\n",
    "d = 0\n",
    "for i in a:\n",
    "    c = np.log2(i)\n",
    "    if c.is_integer() == True:\n",
    "        b.append(a[d])\n",
    "        b.append(a[0])\n",
    "        break\n",
    "    d += 1\n",
    "print(b)"
   ]
  },
  {
   "cell_type": "markdown",
   "metadata": {},
   "source": [
    "<center> `` </center>"
   ]
  },
  {
   "cell_type": "code",
   "execution_count": null,
   "metadata": {},
   "outputs": [],
   "source": []
  }
 ],
 "metadata": {
  "kernelspec": {
   "display_name": "Python 3",
   "language": "python",
   "name": "python3"
  },
  "language_info": {
   "codemirror_mode": {
    "name": "ipython",
    "version": 3
   },
   "file_extension": ".py",
   "mimetype": "text/x-python",
   "name": "python",
   "nbconvert_exporter": "python",
   "pygments_lexer": "ipython3",
   "version": "3.6.5"
  }
 },
 "nbformat": 4,
 "nbformat_minor": 2
}
